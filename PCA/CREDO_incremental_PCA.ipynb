{
 "cells": [
  {
   "metadata": {
    "ExecuteTime": {
     "end_time": "2025-08-18T14:49:09.760295Z",
     "start_time": "2025-08-18T14:48:55.495446Z"
    }
   },
   "cell_type": "code",
   "source": [
    "##########################################\n",
    "# Comparision of PCA and PCA incremental PCA\n",
    "# Author: Tomasz Hachaj\n",
    "# e-mail: thachaj@agh.edu.pl\n",
    "# 2025\n",
    "##########################################\n",
    "\n",
    "import numpy as np\n",
    "path_to_data = 'data'\n",
    "how_many_images = 3500\n",
    "T = np.load(path_to_data + \"//CREDO_T_st_\" + str(how_many_images) + \".npy\").transpose()\n",
    "\n",
    "path_to_resultspartial = 'pca.res_CREDO'\n",
    "\n",
    "batch_size=1000\n",
    "start = 0\n",
    "end = 0\n",
    "\n",
    "import pickle\n",
    "from sklearn.decomposition import IncrementalPCA\n",
    "#transformer = IncrementalPCA(n_components=T.shape[1], batch_size=batch_size)\n",
    "# n_components must be less or equal to the batch number of samples 1000 for the first partial_fit call\n",
    "transformer = IncrementalPCA(n_components=1000, batch_size=batch_size)\n",
    "\n",
    "a = 0\n",
    "\n",
    "while end < T.shape[0]:\n",
    "    end = start + batch_size\n",
    "    if end > T.shape[0]:\n",
    "        end = T.shape[0]\n",
    "    bb = T[start:end:]\n",
    "    transformer.partial_fit(bb)\n",
    "\n",
    "    my_path = path_to_resultspartial + '/pickle' + str(start) + '-' + str(end) + '.pkl'\n",
    "    with open(my_path, 'wb') as outp:\n",
    "        pickle.dump(transformer, outp, pickle.HIGHEST_PROTOCOL)\n",
    "    transformer = None\n",
    "\n",
    "    with open(my_path, 'rb') as inp:\n",
    "        transformer = pickle.load(inp)\n",
    "\n",
    "    start = end\n",
    "    print(str(a) + \" of \" + str(int(T.shape[0] / batch_size)))\n",
    "    a = a + 1"
   ],
   "id": "a922e783bc60999e",
   "outputs": [
    {
     "name": "stdout",
     "output_type": "stream",
     "text": [
      "0 of 3\n",
      "1 of 3\n",
      "2 of 3\n",
      "3 of 3\n"
     ]
    }
   ],
   "execution_count": 1
  },
  {
   "metadata": {
    "ExecuteTime": {
     "end_time": "2025-08-18T14:49:13.811305Z",
     "start_time": "2025-08-18T14:49:13.512621Z"
    }
   },
   "cell_type": "code",
   "source": [
    "def correct_vector(v1):\n",
    "    v_help = np.copy(v1)\n",
    "    max_val = np.max(v_help)\n",
    "    min_val = np.min(v_help)\n",
    "    if np.abs(min_val) > np.abs(max_val) and min_val < 0:\n",
    "        v_help *= -1\n",
    "    return v_help\n",
    "\n",
    "import math\n",
    "def planar_angle(v1, v2):\n",
    "    unit_vector_1 = v1 / np.linalg.norm(v1)\n",
    "    unit_vector_2 = v2 / np.linalg.norm(v2)\n",
    "    dot_product = np.dot(unit_vector_1, unit_vector_2)\n",
    "    angle = np.arccos(dot_product)\n",
    "    if math.isnan(angle):\n",
    "        angle = 0\n",
    "    return angle\n",
    "\n",
    "# path to results computed with PCA\n",
    "# Author: Tomasz Hachaj\n",
    "# e-mail: tomekhachaj@o2.pl\n",
    "# 2023\n",
    "##########################################\n",
    "# Comparison of coordinate frames obtained with basic PCA to coordinate frames obtained with Incremental PCA\n",
    "# for a different number of data used when approximating PCA\n",
    "\n",
    "import numpy as np\n",
    "import pickle\n",
    "\n",
    "def correct_vector(v1):\n",
    "    v_help = np.copy(v1)\n",
    "    max_val = np.max(v_help)\n",
    "    min_val = np.min(v_help)\n",
    "    if np.abs(min_val) > np.abs(max_val) and min_val < 0:\n",
    "        v_help *= -1\n",
    "    return v_help\n",
    "\n",
    "import math\n",
    "def planar_angle(v1, v2):\n",
    "    unit_vector_1 = v1 / np.linalg.norm(v1)\n",
    "    unit_vector_2 = v2 / np.linalg.norm(v2)\n",
    "    dot_product = np.dot(unit_vector_1, unit_vector_2)\n",
    "    angle = np.arccos(dot_product)\n",
    "    if math.isnan(angle):\n",
    "        angle = 0\n",
    "    return angle\n",
    "\n",
    "\n",
    "# path to results computed with PCA\n",
    "path_to_results = \"pca.res_CREDO//\"\n",
    "# path to results computed with Incremental PCA\n",
    "# path to store results\n",
    "file = open('axes_similarityPCA.txt', 'w')\n",
    "\n",
    "#start = 560000\n",
    "#end =  570000\n",
    "start = 0\n",
    "end =  1000\n",
    "how_many_images = 3500\n",
    "\n",
    "v_correct = np.load(path_to_results + \"//CREDO_v_st_\" + str(how_many_images) + \".npy\")\n",
    "w = np.load(path_to_results + \"//CREDO_w_st_\" + str(how_many_images) + \".npy\")\n",
    "v_correct_scalled = w / np.sum(w)\n",
    "\n",
    "transformer = None\n",
    "\n",
    "while end < T.shape[0]:\n",
    "    end = start + batch_size\n",
    "    if end > T.shape[0]:\n",
    "        end = T.shape[0]\n",
    "    my_path = path_to_resultspartial + '//pickle' + str(start) + '-' + str(end) + '.pkl'\n",
    "    with open(my_path, 'rb') as inp:\n",
    "        transformer = pickle.load(inp)\n",
    "    cumulatice_sum = 0\n",
    "    sum_angle_res = 0\n",
    "    # calculation of coordinate frames weighted distance (cfd)\n",
    "    #for a in range(v_correct.shape[1]):\n",
    "    for a in range(min(v_correct.shape[1], transformer.components_.shape[0])):\n",
    "        v_help1 = correct_vector(v_correct[:, a])\n",
    "        #print(transformer.components_.shape)\n",
    "        v_help2 = correct_vector(transformer.components_[a, :])\n",
    "        angle_res = planar_angle(v_help1, v_help2)\n",
    "        average_eigen = (v_correct_scalled[a] + transformer.explained_variance_ratio_[a]) / 2\n",
    "        cumulatice_sum += average_eigen\n",
    "        sum_angle_res += average_eigen * angle_res\n",
    "    print(str(start) + \",\" + str(end) + \",\" + str(sum_angle_res))\n",
    "    start = end\n",
    "    #file.write(str(start) + \",\" + str(end) + \",\" + str(sum_angle_res) + '\\n')"
   ],
   "id": "81a7c850313ffffa",
   "outputs": [
    {
     "name": "stdout",
     "output_type": "stream",
     "text": [
      "0,1000,0.12416908228499189\n",
      "1000,2000,0.10729322801072803\n",
      "2000,3000,0.06295773816030653\n",
      "3000,3500,0.0035763974363098652\n"
     ]
    }
   ],
   "execution_count": 2
  }
 ],
 "metadata": {
  "kernelspec": {
   "display_name": "Python 3",
   "language": "python",
   "name": "python3"
  },
  "language_info": {
   "codemirror_mode": {
    "name": "ipython",
    "version": 2
   },
   "file_extension": ".py",
   "mimetype": "text/x-python",
   "name": "python",
   "nbconvert_exporter": "python",
   "pygments_lexer": "ipython2",
   "version": "2.7.6"
  }
 },
 "nbformat": 4,
 "nbformat_minor": 5
}
